{
 "cells": [
  {
   "cell_type": "markdown",
   "id": "a5b54af0",
   "metadata": {},
   "source": [
    "Write a program to find the largest of three numbers."
   ]
  },
  {
   "cell_type": "code",
   "execution_count": 1,
   "id": "0cbf1a92",
   "metadata": {},
   "outputs": [],
   "source": [
    "#take three inputs from user\n",
    "a,b,c =map(int,input(\"enter three numbers\").split())"
   ]
  },
  {
   "cell_type": "code",
   "execution_count": 2,
   "id": "07b8fe17",
   "metadata": {},
   "outputs": [
    {
     "name": "stdout",
     "output_type": "stream",
     "text": [
      "25 is the largest number\n"
     ]
    }
   ],
   "source": [
    "# basic if-else\n",
    "if a>b and a>c:\n",
    "    print(f\"{a} is the largest number\")\n",
    "elif b>a and b>c:\n",
    "    print(f\"{b} is the largest number\")\n",
    "else:\n",
    "    print(f\"{c} is the largest number\")"
   ]
  },
  {
   "cell_type": "code",
   "execution_count": 3,
   "id": "ff8e0a02",
   "metadata": {},
   "outputs": [
    {
     "name": "stdout",
     "output_type": "stream",
     "text": [
      "25 is the largest number\n"
     ]
    }
   ],
   "source": [
    "#built in max function\n",
    "big = max(a,b,c)\n",
    "print(f\"{big} is the largest number\")"
   ]
  }
 ],
 "metadata": {
  "kernelspec": {
   "display_name": "Python 3",
   "language": "python",
   "name": "python3"
  },
  "language_info": {
   "codemirror_mode": {
    "name": "ipython",
    "version": 3
   },
   "file_extension": ".py",
   "mimetype": "text/x-python",
   "name": "python",
   "nbconvert_exporter": "python",
   "pygments_lexer": "ipython3",
   "version": "3.13.6"
  }
 },
 "nbformat": 4,
 "nbformat_minor": 5
}
