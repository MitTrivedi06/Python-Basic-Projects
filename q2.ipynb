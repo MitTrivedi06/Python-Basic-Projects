{
 "cells": [
  {
   "cell_type": "markdown",
   "id": "40f6fe41",
   "metadata": {},
   "source": [
    "Take user input and display it back to the user."
   ]
  },
  {
   "cell_type": "code",
   "execution_count": 3,
   "id": "a3075535",
   "metadata": {},
   "outputs": [
    {
     "name": "stdout",
     "output_type": "stream",
     "text": [
      "hello mit\n",
      "hello mit\n",
      "hello mit\n"
     ]
    }
   ],
   "source": [
    "#basic direct\n",
    "user = input(\"plese enter your name\")\n",
    "print(\"hello\",user)\n",
    "\n",
    "#using f-string\n",
    "print(f\"hello {user}\")\n",
    "\n",
    "#using format method\n",
    "print(\"hello {}\".format(user))"
   ]
  },
  {
   "cell_type": "code",
   "execution_count": 5,
   "id": "f3f6e72b",
   "metadata": {},
   "outputs": [
    {
     "name": "stdout",
     "output_type": "stream",
     "text": [
      "hello, mit trivedi\n"
     ]
    }
   ],
   "source": [
    "#for multiple inputs\n",
    "user_name,surname = input(\"enter your name and surname\").split()\n",
    "print(f\"hello, {user_name} {surname}\")"
   ]
  },
  {
   "cell_type": "code",
   "execution_count": null,
   "id": "20ff2304",
   "metadata": {},
   "outputs": [
    {
     "name": "stdout",
     "output_type": "stream",
     "text": [
      "You entered: ['10', '20', '30', '40', '50']\n"
     ]
    }
   ],
   "source": [
    "#using list comprehension\n",
    "values = [x for x in input(\"Enter values: \").split()]\n",
    "print(\"You entered:\", values)"
   ]
  }
 ],
 "metadata": {
  "kernelspec": {
   "display_name": "Python 3",
   "language": "python",
   "name": "python3"
  },
  "language_info": {
   "codemirror_mode": {
    "name": "ipython",
    "version": 3
   },
   "file_extension": ".py",
   "mimetype": "text/x-python",
   "name": "python",
   "nbconvert_exporter": "python",
   "pygments_lexer": "ipython3",
   "version": "3.13.6"
  }
 },
 "nbformat": 4,
 "nbformat_minor": 5
}
