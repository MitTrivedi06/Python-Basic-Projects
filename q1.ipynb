{
 "cells": [
  {
   "cell_type": "markdown",
   "id": "abf33920",
   "metadata": {},
   "source": [
    "Write a Python program to swap two variables."
   ]
  },
  {
   "cell_type": "code",
   "execution_count": 4,
   "id": "be5e9606",
   "metadata": {},
   "outputs": [
    {
     "name": "stdout",
     "output_type": "stream",
     "text": [
      "before swapping: 10 20\n",
      "after swapping: 20 10\n"
     ]
    }
   ],
   "source": [
    "#method-1 - basic\n",
    "n1 = int(input(\"enter first number\"))\n",
    "n2 = int(input(\"enter second number\"))\n",
    "print(f\"before swapping: {n1} {n2}\")\n",
    "temp_var = n1\n",
    "n1 = n2\n",
    "n2 = temp_var\n",
    "print(f\"after swapping: {n1} {n2}\")"
   ]
  },
  {
   "cell_type": "code",
   "execution_count": null,
   "id": "1d24317a",
   "metadata": {},
   "outputs": [
    {
     "name": "stdout",
     "output_type": "stream",
     "text": [
      "before swapping: 10 20\n",
      "after swapping: 20 10\n"
     ]
    }
   ],
   "source": [
    "#method two - using tuple unpacking\n",
    "n1,n2 = map(int,input(\"enter two number to swap\").split())\n",
    "print(f\"before swapping: {n1} {n2}\")\n",
    "n1,n2 = n2,n1\n",
    "print(f\"after swapping: {n1} {n2}\")"
   ]
  }
 ],
 "metadata": {
  "kernelspec": {
   "display_name": "Python 3",
   "language": "python",
   "name": "python3"
  },
  "language_info": {
   "codemirror_mode": {
    "name": "ipython",
    "version": 3
   },
   "file_extension": ".py",
   "mimetype": "text/x-python",
   "name": "python",
   "nbconvert_exporter": "python",
   "pygments_lexer": "ipython3",
   "version": "3.13.6"
  }
 },
 "nbformat": 4,
 "nbformat_minor": 5
}
